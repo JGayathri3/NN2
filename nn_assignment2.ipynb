{
 "cells": [
  {
   "cell_type": "code",
   "execution_count": 19,
   "id": "a75f2014-5de8-4264-8a43-f2b80318a0b5",
   "metadata": {},
   "outputs": [
    {
     "name": "stdout",
     "output_type": "stream",
     "text": [
      "Please enter FirstName:\n"
     ]
    },
    {
     "name": "stdin",
     "output_type": "stream",
     "text": [
      " Gayathri\n"
     ]
    },
    {
     "name": "stdout",
     "output_type": "stream",
     "text": [
      "Please enter LastName:\n"
     ]
    },
    {
     "name": "stdin",
     "output_type": "stream",
     "text": [
      " Jagiri\n"
     ]
    },
    {
     "name": "stdout",
     "output_type": "stream",
     "text": [
      "Gayathri Jagiri\n",
      "Gytr aii\n"
     ]
    }
   ],
   "source": [
    "#QUESTION 1\n",
    "\n",
    "#take 2  integers from the user and pass them to the fullname function that returns\n",
    "#write a function \"string_alternative\" that returns every other char in the full name\n",
    "\n",
    "print(\"Please enter FirstName:\")\n",
    "First_name = input();\n",
    "print(\"Please enter LastName:\")\n",
    "last_name = input();\n",
    "\n",
    "class Name:\n",
    "\n",
    "    def Fullname(self, FirstName, LastName):\n",
    "        Full_name = FirstName + \" \" + LastName\n",
    "        return Full_name\n",
    "\n",
    "    def string_alternative(self, Full_name):\n",
    "        output = ''\n",
    "        for i in range(len(Full_name)):\n",
    "            if (i % 2 == 0):\n",
    "                output = output + Full_name[i]\n",
    "        print(output)\n",
    "\n",
    "def main():\n",
    "    Objname = Name()\n",
    "    print(Objname.Fullname(First_name, last_name))\n",
    "    Objname.string_alternative(Objname.Fullname(First_name, last_name))\n",
    "\n",
    "if __name__ == \"__main__\":\n",
    "    main()\n",
    "    "
   ]
  },
  {
   "cell_type": "code",
   "execution_count": 7,
   "id": "207a44a1-4e5c-4aab-92c6-384bbfa237c3",
   "metadata": {},
   "outputs": [],
   "source": [
    "#QUESTION 2\n",
    "\n",
    "#find out the word count in a file and print it in the output file"
   ]
  },
  {
   "cell_type": "code",
   "execution_count": 18,
   "id": "b623c666-0688-4250-9b66-79f16b4ba945",
   "metadata": {},
   "outputs": [],
   "source": [
    "from collections import Counter\n",
    "\n",
    "with open('C://Users//Gayathri//.ipynb_checkpoints//Neural Networks//input.txt') as f:\n",
    "    lines = f.read()\n",
    "    list_words = (' '.join(lines.splitlines())).split()\n",
    "    ar = str(dict(Counter(list_words)))\n",
    "    with open('C://Users//Gayathri//.ipynb_checkpoints//Neural Networks//output.txt', 'w') as s:\n",
    "        s.write(ar)\n",
    "        "
   ]
  },
  {
   "cell_type": "code",
   "execution_count": null,
   "id": "e5b6f4a0-64cc-4f85-90cd-5fed6ef8bd84",
   "metadata": {},
   "outputs": [],
   "source": [
    "#QUESTION 3\n",
    "\n",
    "#read the heights in inches and convert them into centimeters and store them in a seperate list"
   ]
  },
  {
   "cell_type": "code",
   "execution_count": 11,
   "id": "af3d48e4-a29f-496a-885e-e8fa26b43879",
   "metadata": {},
   "outputs": [
    {
     "name": "stdout",
     "output_type": "stream",
     "text": [
      "[381.0, 393.7, 368.3, 375.92]\n"
     ]
    }
   ],
   "source": [
    "def inchestocentimeters():\n",
    "    list1 = [150, 155, 145, 148]\n",
    "    list2 = []\n",
    "    for i in list1:\n",
    "        list2.append(float(i * 2.54))\n",
    "    print(list2)\n",
    "inchestocentimeters()"
   ]
  },
  {
   "cell_type": "code",
   "execution_count": null,
   "id": "5689bfc9-c62a-4d14-9335-99fc723669c3",
   "metadata": {},
   "outputs": [],
   "source": []
  }
 ],
 "metadata": {
  "kernelspec": {
   "display_name": "Python 3 (ipykernel)",
   "language": "python",
   "name": "python3"
  },
  "language_info": {
   "codemirror_mode": {
    "name": "ipython",
    "version": 3
   },
   "file_extension": ".py",
   "mimetype": "text/x-python",
   "name": "python",
   "nbconvert_exporter": "python",
   "pygments_lexer": "ipython3",
   "version": "3.12.1"
  }
 },
 "nbformat": 4,
 "nbformat_minor": 5
}
